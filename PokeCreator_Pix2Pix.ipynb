{
  "nbformat": 4,
  "nbformat_minor": 0,
  "metadata": {
    "colab": {
      "name": "PokeCreator - Pix2Pix.ipynb",
      "provenance": [],
      "collapsed_sections": [],
      "include_colab_link": true
    },
    "kernelspec": {
      "name": "python3",
      "display_name": "Python 3"
    },
    "accelerator": "GPU"
  },
  "cells": [
    {
      "cell_type": "markdown",
      "metadata": {
        "id": "view-in-github",
        "colab_type": "text"
      },
      "source": [
        "<a href=\"https://colab.research.google.com/github/jesusmartinoza/Analisis-estructural/blob/master/PokeCreator_Pix2Pix.ipynb\" target=\"_parent\"><img src=\"https://colab.research.google.com/assets/colab-badge.svg\" alt=\"Open In Colab\"/></a>"
      ]
    },
    {
      "cell_type": "markdown",
      "metadata": {
        "id": "cSLJXswOLOPd",
        "colab_type": "text"
      },
      "source": [
        "# Set Google Drive"
      ]
    },
    {
      "cell_type": "code",
      "metadata": {
        "id": "nZ3zBAiH1aZZ",
        "colab_type": "code",
        "outputId": "349e73bc-9b55-4461-a238-2e630d596483",
        "colab": {
          "base_uri": "https://localhost:8080/",
          "height": 34
        }
      },
      "source": [
        "from google.colab import drive\n",
        "\n",
        "drive.mount('/content/drive')"
      ],
      "execution_count": 0,
      "outputs": [
        {
          "output_type": "stream",
          "text": [
            "Mounted at /content/drive\n"
          ],
          "name": "stdout"
        }
      ]
    },
    {
      "cell_type": "markdown",
      "metadata": {
        "id": "kzze_chfLXmY",
        "colab_type": "text"
      },
      "source": [
        "# Imports"
      ]
    },
    {
      "cell_type": "code",
      "metadata": {
        "id": "AnsurgCK_E2X",
        "colab_type": "code",
        "colab": {}
      },
      "source": [
        "# Install TensorFlow\n",
        "try:\n",
        "  # %tensorflow_version only exists in Colab.\n",
        "  %tensorflow_version 2.x\n",
        "except Exception:\n",
        "  print('aaa')\n",
        "  pass"
      ],
      "execution_count": 0,
      "outputs": []
    },
    {
      "cell_type": "markdown",
      "metadata": {
        "id": "6xDtpVgY4KkG",
        "colab_type": "text"
      },
      "source": [
        "# Set data paths\n"
      ]
    },
    {
      "cell_type": "code",
      "metadata": {
        "id": "g8ylO5Tg2tuH",
        "colab_type": "code",
        "outputId": "1b46b82b-ce0b-44f8-b79e-a7c7a1e4cf9f",
        "colab": {
          "base_uri": "https://localhost:8080/",
          "height": 34
        }
      },
      "source": [
        "import tensorflow as tf\n",
        "import matplotlib.pyplot as plt\n",
        "import numpy as np\n",
        "import os\n",
        "\n",
        "# Root\n",
        "PATH = \"/content/drive/My Drive/PokeCreator\"\n",
        "\n",
        "# Paths of input, target and checkpoints\n",
        "INPATH = PATH + '/dataset/edges'\n",
        "OUTPATH = PATH + '/dataset/resized'\n",
        "CKPATH = PATH + '/training_checkpoints'\n",
        "BUFFER_SIZE = 400\n",
        "\n",
        "imgurls = os.listdir(INPATH)\n",
        "\n",
        "n = len(imgurls) - 1\n",
        "train_n = round(n * 0.80)\n",
        "\n",
        "# Random list names\n",
        "randurls = np.copy(imgurls)\n",
        "\n",
        "#np.random.seed(23) # TODO: Just for testing\n",
        "np.random.shuffle(randurls)\n",
        "\n",
        "# Split train/test\n",
        "tr_urls = randurls[:train_n+1]\n",
        "ts_urls = randurls[train_n:n]\n",
        "\n",
        "print('Total n: {} Train n: {} Test n: {}'.format(len(imgurls), len(tr_urls), len(ts_urls)))"
      ],
      "execution_count": 0,
      "outputs": [
        {
          "output_type": "stream",
          "text": [
            "Total n: 5757 Train n: 4606 Test n: 1151\n"
          ],
          "name": "stdout"
        }
      ]
    },
    {
      "cell_type": "code",
      "metadata": {
        "id": "Op-2MXnz6Y0i",
        "colab_type": "code",
        "outputId": "4443ad03-0187-4df6-9d9f-6a8421fa29c3",
        "colab": {
          "base_uri": "https://localhost:8080/",
          "height": 303
        }
      },
      "source": [
        "IMG_WIDTH = 128\n",
        "IMG_HEIGHT = 128\n",
        "\n",
        "# Resize images\n",
        "def resize(inimg, tgimg, height, width):\n",
        "  inimg = tf.image.resize(inimg, [height, width])\n",
        "  tgimg = tf.image.resize(tgimg, [height, width])\n",
        "  \n",
        "  return inimg, tgimg\n",
        "\n",
        "def normalize(inimg, tgimg):\n",
        "  inimg = (inimg / 127.5) - 1\n",
        "  tgimg = (tgimg / 127.5) - 1\n",
        "  \n",
        "  return inimg, tgimg\n",
        "\n",
        "@tf.function()\n",
        "def random_jitter(input_image, real_image):\n",
        "  # resizing to 128 x 128 x 3\n",
        "  input_image, real_image = resize(input_image, real_image, 128, 128)\n",
        "\n",
        "  stacked_image = tf.stack([input_image, real_image], axis = 0)\n",
        "  cropped_image = tf.image.random_crop(stacked_image, size=[2, IMG_HEIGHT, IMG_WIDTH, 3])\n",
        "\n",
        "  input_image, real_image = cropped_image[0], cropped_image[1]\n",
        "  \n",
        "  if tf.random.uniform(()) > 0.5:\n",
        "    # random mirroring\n",
        "    input_image = tf.image.flip_left_right(input_image)\n",
        "    real_image = tf.image.flip_left_right(real_image)\n",
        "\n",
        "  return input_image, real_image\n",
        "\n",
        "def load_image(filename, augment=True):\n",
        "  inimg = tf.cast(tf.image.decode_jpeg(tf.io.read_file(INPATH + '/' + filename)), tf.float32)[..., :3] # [256x256, Para limitar a 3 canales]\n",
        "  tgimg = tf.cast(tf.image.decode_jpeg(tf.io.read_file(OUTPATH + '/' + filename)), tf.float32)[..., :3]\n",
        "  \n",
        "  inimg, tgimg = resize(inimg, tgimg, IMG_HEIGHT, IMG_WIDTH)\n",
        "\n",
        "  if inimg.shape[2] == 1:\n",
        "    b = tf.fill([128, 128, 2], value=255.)\n",
        "    c = tf.concat([inimg, b], axis=2)\n",
        "    inimg = tf.math.minimum(inimg, c)\n",
        "\n",
        "  if tgimg.shape[2] == 1:\n",
        "    b = tf.fill([128, 128, 2], value=255.)\n",
        "    c = tf.concat([tgimg, b], axis=2)\n",
        "    tgimg = tf.math.minimum(tgimg, c)\n",
        "  \n",
        "  print(inimg.shape)\n",
        "\n",
        "  if augment:\n",
        "    inimg, tgimg = random_jitter(inimg, tgimg)\n",
        "    \n",
        "  inimg, tgimg = normalize(inimg, tgimg)\n",
        "  \n",
        "  return inimg, tgimg\n",
        "  \n",
        "def load_train_image(filename):\n",
        "  return load_image(filename, True)\n",
        "\n",
        "def load_test_image(filename):\n",
        "  return load_image(filename, False)\n",
        "\n",
        "inp, res = load_train_image(tr_urls[0])\n",
        "\n",
        "plt.imshow((inp + 1) / 2)"
      ],
      "execution_count": 0,
      "outputs": [
        {
          "output_type": "stream",
          "text": [
            "(128, 128, 3)\n"
          ],
          "name": "stdout"
        },
        {
          "output_type": "execute_result",
          "data": {
            "text/plain": [
              "<matplotlib.image.AxesImage at 0x7feeaf988a58>"
            ]
          },
          "metadata": {
            "tags": []
          },
          "execution_count": 92
        },
        {
          "output_type": "display_data",
          "data": {
            "image/png": "[encoded data removed]",
            "text/plain": [
              "<Figure size 432x288 with 1 Axes>"
            ]
          },
          "metadata": {
            "tags": []
          }
        }
      ]
    },
    {
      "cell_type": "code",
      "metadata": {
        "id": "mvkV0BpM65QU",
        "colab_type": "code",
        "outputId": "d6071f98-1cd1-495b-f1bc-2f28d27d357c",
        "colab": {
          "base_uri": "https://localhost:8080/",
          "height": 51
        }
      },
      "source": [
        "train_dataset = tf.data.Dataset.from_tensor_slices(tr_urls)\n",
        "test_dataset = tf.data.Dataset.from_tensor_slices(ts_urls)\n",
        "\n",
        "train_dataset = train_dataset.map(load_train_image, num_parallel_calls=tf.data.experimental.AUTOTUNE)\n",
        "test_dataset = test_dataset.map(load_test_image)\n",
        "\n",
        "# Load data and apply jittering if necessary\n",
        "train_dataset = train_dataset.cache().shuffle(BUFFER_SIZE)\n",
        "\n",
        "train_dataset = train_dataset.batch(1) # Distribuir datos en N lotes\n",
        "test_dataset = test_dataset.batch(1)"
      ],
      "execution_count": 0,
      "outputs": [
        {
          "output_type": "stream",
          "text": [
            "(128, 128, None)\n",
            "(128, 128, None)\n"
          ],
          "name": "stdout"
        }
      ]
    },
    {
      "cell_type": "markdown",
      "metadata": {
        "id": "6HqoP_We4iVJ",
        "colab_type": "text"
      },
      "source": [
        "# Pix2Pix"
      ]
    },
    {
      "cell_type": "code",
      "metadata": {
        "id": "ZJxgyg4FE4Wi",
        "colab_type": "code",
        "colab": {}
      },
      "source": [
        "from tensorflow.keras import *\n",
        "from tensorflow.keras.layers import *\n",
        "\n",
        "def downsample(filters, apply_batchnorm=True):\n",
        "  result = Sequential()\n",
        "  \n",
        "  initializer = tf.random_normal_initializer(0., 0.02)\n",
        "  \n",
        "  # Capa convolucional \n",
        "  result.add(Conv2D(filters,\n",
        "                    kernel_size=4,\n",
        "                    strides=2,\n",
        "                    padding=\"same\",\n",
        "                    kernel_initializer = initializer,\n",
        "                    use_bias=False))\n",
        "  \n",
        "  # Capa de BatchNorm.\n",
        "  if apply_batchnorm:\n",
        "    result.add(BatchNormalization())\n",
        "  \n",
        "  # Capa de activacion\n",
        "  result.add(LeakyReLU())\n",
        "  \n",
        "  return result"
      ],
      "execution_count": 0,
      "outputs": []
    },
    {
      "cell_type": "code",
      "metadata": {
        "id": "WSK-cEofdP8L",
        "colab_type": "code",
        "outputId": "af0daf7f-d8f5-4c40-e074-7db7c2e76d42",
        "colab": {
          "base_uri": "https://localhost:8080/",
          "height": 34
        }
      },
      "source": [
        "down_model = downsample(3, 4)\n",
        "down_result = down_model(tf.expand_dims(inp, 0))\n",
        "print (down_result.shape)"
      ],
      "execution_count": 0,
      "outputs": [
        {
          "output_type": "stream",
          "text": [
            "(1, 64, 64, 3)\n"
          ],
          "name": "stdout"
        }
      ]
    },
    {
      "cell_type": "code",
      "metadata": {
        "id": "3ufyZx3FHHpf",
        "colab_type": "code",
        "colab": {}
      },
      "source": [
        "def upsample(filters, apply_dropout=False):\n",
        "  result = Sequential()\n",
        "  initializer = tf.random_normal_initializer(0., 0.02)\n",
        "  \n",
        "  # Convolutional layer\n",
        "  result.add(Conv2DTranspose(filters,\n",
        "                             kernel_size=4,\n",
        "                             strides=2,\n",
        "                             padding=\"same\",\n",
        "                             kernel_initializer=initializer,\n",
        "                             use_bias=False))\n",
        "  \n",
        "  # BatchNorm layer\n",
        "  result.add(BatchNormalization())\n",
        "  \n",
        "  if apply_dropout:\n",
        "    result.add(Dropout(0.5))\n",
        "  \n",
        "  # Activation layer\n",
        "  result.add(ReLU())\n",
        "  \n",
        "  return result"
      ],
      "execution_count": 0,
      "outputs": []
    },
    {
      "cell_type": "code",
      "metadata": {
        "id": "D5oDNiYEdnzm",
        "colab_type": "code",
        "outputId": "bfe2d571-a3e6-469c-8dba-e9fbe9409a62",
        "colab": {
          "base_uri": "https://localhost:8080/",
          "height": 34
        }
      },
      "source": [
        "up_model = upsample(3, 4)\n",
        "up_result = up_model(down_result)\n",
        "print (up_result.shape)"
      ],
      "execution_count": 0,
      "outputs": [
        {
          "output_type": "stream",
          "text": [
            "(1, 128, 128, 3)\n"
          ],
          "name": "stdout"
        }
      ]
    },
    {
      "cell_type": "code",
      "metadata": {
        "id": "Q3VCU2AMH0Hs",
        "colab_type": "code",
        "outputId": "19f422b7-4818-4f81-d41b-5d40af249a9b",
        "colab": {
          "base_uri": "https://localhost:8080/",
          "height": 1000
        }
      },
      "source": [
        "# U-Net to join decoder and encoder\n",
        "def Generator():  \n",
        "  down_stack = [\n",
        "      downsample(64, apply_batchnorm=False),\n",
        "      downsample(128),\n",
        "      downsample(256),\n",
        "      downsample(512),\n",
        "      downsample(512),\n",
        "      downsample(512),\n",
        "      downsample(512),\n",
        "      #downsample(512),\n",
        "  ]\n",
        "  \n",
        "  up_stack = [\n",
        "      #upsample(512, apply_dropout=True),\n",
        "      upsample(512, apply_dropout=True),\n",
        "      upsample(512, apply_dropout=True),\n",
        "      upsample(512),\n",
        "      upsample(256),\n",
        "      upsample(128),\n",
        "      upsample(64),\n",
        "  ]\n",
        "  \n",
        "  initializer = tf.random_normal_initializer(0., 0.02)\n",
        "\n",
        "  last = Conv2DTranspose(filters = 3,\n",
        "                         kernel_size=4,\n",
        "                         strides = 2,\n",
        "                         padding = \"same\",\n",
        "                         kernel_initializer = initializer,\n",
        "                         activation = \"tanh\") # tanh va de -1 a 1\n",
        "  concat = Concatenate()\n",
        "  inputs = tf.keras.layers.Input(shape=[None, None, 3])\n",
        "  \n",
        "  x = inputs\n",
        "  s = [] # skip connections\n",
        "  \n",
        "  for down in down_stack:\n",
        "    x = down(x)\n",
        "    s.append(x)\n",
        "    \n",
        "  s = reversed(s[:-1]) # Hasta el penultimo elemento\n",
        "    \n",
        "  for up, sk in zip(up_stack, s):\n",
        "    print(x)\n",
        "    x = up(x)\n",
        "    x = concat([x, sk])\n",
        "    \n",
        "  x = last(x)\n",
        "  \n",
        "  return Model(inputs=inputs, outputs=x)\n",
        "\n",
        "generator = Generator()\n",
        "print(generator.summary())\n",
        "gen_output = generator(inp[tf.newaxis,...], training=False)\n",
        "plt.imshow(gen_output[0,...])"
      ],
      "execution_count": 0,
      "outputs": [
        {
          "output_type": "stream",
          "text": [
            "Tensor(\"sequential_98/Identity:0\", shape=(None, None, None, 512), dtype=float32)\n",
            "Tensor(\"concatenate_10/Identity:0\", shape=(None, None, None, 1024), dtype=float32)\n",
            "Tensor(\"concatenate_10_1/Identity:0\", shape=(None, None, None, 1024), dtype=float32)\n",
            "Tensor(\"concatenate_10_2/Identity:0\", shape=(None, None, None, 1024), dtype=float32)\n",
            "Tensor(\"concatenate_10_3/Identity:0\", shape=(None, None, None, 512), dtype=float32)\n",
            "Tensor(\"concatenate_10_4/Identity:0\", shape=(None, None, None, 256), dtype=float32)\n"
          ],
          "name": "stdout"
        },
        {
          "output_type": "stream",
          "text": [
            "Clipping input data to the valid range for imshow with RGB data ([0..1] for floats or [0..255] for integers).\n"
          ],
          "name": "stderr"
        },
        {
          "output_type": "stream",
          "text": [
            "Model: \"model_10\"\n",
            "__________________________________________________________________________________________________\n",
            "Layer (type)                    Output Shape         Param #     Connected to                     \n",
            "==================================================================================================\n",
            "input_6 (InputLayer)            [(None, None, None,  0                                            \n",
            "__________________________________________________________________________________________________\n",
            "sequential_92 (Sequential)      (None, None, None, 6 3072        input_6[0][0]                    \n",
            "__________________________________________________________________________________________________\n",
            "sequential_93 (Sequential)      (None, None, None, 1 131584      sequential_92[0][0]              \n",
            "__________________________________________________________________________________________________\n",
            "sequential_94 (Sequential)      (None, None, None, 2 525312      sequential_93[0][0]              \n",
            "__________________________________________________________________________________________________\n",
            "sequential_95 (Sequential)      (None, None, None, 5 2099200     sequential_94[0][0]              \n",
            "__________________________________________________________________________________________________\n",
            "sequential_96 (Sequential)      (None, None, None, 5 4196352     sequential_95[0][0]              \n",
            "__________________________________________________________________________________________________\n",
            "sequential_97 (Sequential)      (None, None, None, 5 4196352     sequential_96[0][0]              \n",
            "__________________________________________________________________________________________________\n",
            "sequential_98 (Sequential)      (None, None, None, 5 4196352     sequential_97[0][0]              \n",
            "__________________________________________________________________________________________________\n",
            "sequential_99 (Sequential)      (None, None, None, 5 4196352     sequential_98[0][0]              \n",
            "__________________________________________________________________________________________________\n",
            "concatenate_10 (Concatenate)    multiple             0           sequential_99[0][0]              \n",
            "                                                                 sequential_97[0][0]              \n",
            "                                                                 sequential_100[0][0]             \n",
            "                                                                 sequential_96[0][0]              \n",
            "                                                                 sequential_101[0][0]             \n",
            "                                                                 sequential_95[0][0]              \n",
            "                                                                 sequential_102[0][0]             \n",
            "                                                                 sequential_94[0][0]              \n",
            "                                                                 sequential_103[0][0]             \n",
            "                                                                 sequential_93[0][0]              \n",
            "                                                                 sequential_104[0][0]             \n",
            "                                                                 sequential_92[0][0]              \n",
            "__________________________________________________________________________________________________\n",
            "sequential_100 (Sequential)     (None, None, None, 5 8390656     concatenate_10[0][0]             \n",
            "__________________________________________________________________________________________________\n",
            "sequential_101 (Sequential)     (None, None, None, 5 8390656     concatenate_10[1][0]             \n",
            "__________________________________________________________________________________________________\n",
            "sequential_102 (Sequential)     (None, None, None, 2 4195328     concatenate_10[2][0]             \n",
            "__________________________________________________________________________________________________\n",
            "sequential_103 (Sequential)     (None, None, None, 1 1049088     concatenate_10[3][0]             \n",
            "__________________________________________________________________________________________________\n",
            "sequential_104 (Sequential)     (None, None, None, 6 262400      concatenate_10[4][0]             \n",
            "__________________________________________________________________________________________________\n",
            "conv2d_transpose_47 (Conv2DTran (None, None, None, 3 6147        concatenate_10[5][0]             \n",
            "==================================================================================================\n",
            "Total params: 41,838,851\n",
            "Trainable params: 41,830,019\n",
            "Non-trainable params: 8,832\n",
            "__________________________________________________________________________________________________\n",
            "None\n"
          ],
          "name": "stdout"
        },
        {
          "output_type": "execute_result",
          "data": {
            "text/plain": [
              "<matplotlib.image.AxesImage at 0x7fee57143a58>"
            ]
          },
          "metadata": {
            "tags": []
          },
          "execution_count": 98
        },
        {
          "output_type": "display_data",
          "data": {
            "image/png": "[encoded data removed]",
            "text/plain": [
              "<Figure size 432x288 with 1 Axes>"
            ]
          },
          "metadata": {
            "tags": []
          }
        }
      ]
    },
    {
      "cell_type": "code",
      "metadata": {
        "id": "gaGnioqCMA3X",
        "colab_type": "code",
        "outputId": "4cb2bacf-75dc-43f0-e517-ef77f98eab95",
        "colab": {
          "base_uri": "https://localhost:8080/",
          "height": 286
        }
      },
      "source": [
        "def Discriminator():\n",
        "  initializer = tf.random_normal_initializer(0, 0.02)\n",
        "\n",
        "  inp = tf.keras.layers.Input(shape=[None, None, 3], name='input_image')\n",
        "  tar = tf.keras.layers.Input(shape=[None, None, 3], name='target_image')\n",
        "\n",
        "  x = tf.keras.layers.concatenate([inp, tar]) # (bs, 256, 256, channels*2)\n",
        "\n",
        "  down1 = downsample(64, False)(x) # (bs, 128, 128, 64)\n",
        "  down2 = downsample(128)(down1) # (bs, 64, 64, 128)\n",
        "  down3 = downsample(256)(down2) # (bs, 32, 32, 256)\n",
        "\n",
        "  zero_pad1 = tf.keras.layers.ZeroPadding2D()(down3) # (bs, 34, 34, 256)\n",
        "  conv = tf.keras.layers.Conv2D(512, 4, strides=1,\n",
        "                                kernel_initializer=initializer,\n",
        "                                use_bias=False)(zero_pad1) # (bs, 31, 31, 512)\n",
        "\n",
        "  batchnorm1 = tf.keras.layers.BatchNormalization()(conv)\n",
        "\n",
        "  leaky_relu = tf.keras.layers.LeakyReLU()(batchnorm1)\n",
        "\n",
        "  zero_pad2 = tf.keras.layers.ZeroPadding2D()(leaky_relu) # (bs, 33, 33, 512)\n",
        "\n",
        "  last = tf.keras.layers.Conv2D(1, 4, strides=1,\n",
        "                                kernel_initializer=initializer)(zero_pad2) # (bs, 30, 30, 1)\n",
        "\n",
        "  return tf.keras.Model(inputs=[inp, tar], outputs=last)\n",
        "\n",
        "discriminator = Discriminator()\n",
        "disc_out = discriminator([inp[tf.newaxis,...], gen_output], training=False)\n",
        "plt.imshow(disc_out[0,...,-1], vmin=-20, vmax=20, cmap='RdBu_r')\n",
        "plt.colorbar()"
      ],
      "execution_count": 0,
      "outputs": [
        {
          "output_type": "execute_result",
          "data": {
            "text/plain": [
              "<matplotlib.colorbar.Colorbar at 0x7fee56eb5b00>"
            ]
          },
          "metadata": {
            "tags": []
          },
          "execution_count": 99
        },
        {
          "output_type": "display_data",
          "data": {
            "image/png": "[encoded data removed]",
            "text/plain": [
              "<Figure size 432x288 with 2 Axes>"
            ]
          },
          "metadata": {
            "tags": []
          }
        }
      ]
    },
    {
      "cell_type": "code",
      "metadata": {
        "id": "xNPTx_MLO7Z5",
        "colab_type": "code",
        "colab": {}
      },
      "source": [
        "def discriminator_loss(disc_real_output, disc_generated_output):\n",
        "  real_loss = loss_object(tf.ones_like(disc_real_output), disc_real_output)\n",
        "\n",
        "  generated_loss = loss_object(tf.zeros_like(disc_generated_output), disc_generated_output)\n",
        "\n",
        "  total_disc_loss = real_loss + generated_loss\n",
        "\n",
        "  return total_disc_loss"
      ],
      "execution_count": 0,
      "outputs": []
    },
    {
      "cell_type": "code",
      "metadata": {
        "id": "PzjqmFcyQOaX",
        "colab_type": "code",
        "colab": {}
      },
      "source": [
        "LAMBDA = 100\n",
        "\n",
        "def generator_loss(disc_generated_output, gen_output, target):\n",
        "  gan_loss = loss_object(tf.ones_like(disc_generated_output), disc_generated_output)\n",
        "\n",
        "  # mean absolute error\n",
        "  l1_loss = tf.reduce_mean(tf.abs(target - gen_output))\n",
        "\n",
        "  total_gen_loss = gan_loss + (LAMBDA * l1_loss)\n",
        "\n",
        "  return total_gen_loss"
      ],
      "execution_count": 0,
      "outputs": []
    },
    {
      "cell_type": "markdown",
      "metadata": {
        "id": "Bc_v2CG84fF0",
        "colab_type": "text"
      },
      "source": [
        "# Training"
      ]
    },
    {
      "cell_type": "code",
      "metadata": {
        "id": "inO8JYauRKzb",
        "colab_type": "code",
        "outputId": "b2f3275c-048c-4d7d-c461-b54b7eb86935",
        "colab": {
          "base_uri": "https://localhost:8080/",
          "height": 34
        }
      },
      "source": [
        "import os\n",
        "\n",
        "# Cost function to compete beetween generator and discriminator\n",
        "loss_object = tf.keras.losses.BinaryCrossentropy(from_logits=True)\n",
        "\n",
        "generator_optimizer = tf.keras.optimizers.Adam(2e-4, beta_1=0.5)\n",
        "discriminator_optimizer = tf.keras.optimizers.Adam(2e-4, beta_1=0.5)\n",
        "\n",
        "checkpoint = tf.train.Checkpoint(generator_optimizer=generator_optimizer,\n",
        "                                 discriminator_optimizer=discriminator_optimizer,\n",
        "                                 generator=generator,\n",
        "                                 discriminator=discriminator)\n",
        "\n",
        "checkpoint.restore(tf.train.latest_checkpoint(CKPATH))\n"
      ],
      "execution_count": 0,
      "outputs": [
        {
          "output_type": "execute_result",
          "data": {
            "text/plain": [
              "<tensorflow.python.training.tracking.util.InitializationOnlyStatus at 0x7fee57749128>"
            ]
          },
          "metadata": {
            "tags": []
          },
          "execution_count": 102
        }
      ]
    },
    {
      "cell_type": "code",
      "metadata": {
        "id": "C5_WkHeuRhLh",
        "colab_type": "code",
        "colab": {}
      },
      "source": [
        "def generate_images(model, test_input, tar, save_filename=False, display_imgs=True):\n",
        "  # the training=True is intentional here since\n",
        "  # we want the batch statistics while running the model\n",
        "  # on the test dataset. If we use training=False, we will get\n",
        "  # the accumulated statistics learned from the training dataset\n",
        "  # (which we don't want)\n",
        "  prediction = model(test_input, training=True)\n",
        "  \n",
        "  if save_filename:\n",
        "    tf.keras.preprocessing.image.save_img(PATH + '/output/' + save_filename + \".jpg\", prediction[0,...])\n",
        "\n",
        "  display_list = [test_input[0], tar[0], prediction[0]]\n",
        "  title = ['Input Image', 'Ground Truth', 'Predicted Image']\n",
        "\n",
        "  if display_imgs:\n",
        "    plt.figure(figsize=(15,15))\n",
        "    for i in range(3):\n",
        "      plt.subplot(1, 3, i+1)\n",
        "      plt.title(title[i])\n",
        "      # getting the pixel values between [0, 1] to plot it.\n",
        "      plt.imshow(display_list[i] * 0.5 + 0.5)\n",
        "      plt.axis('off')\n",
        "      \n",
        "  plt.show()"
      ],
      "execution_count": 0,
      "outputs": []
    },
    {
      "cell_type": "code",
      "metadata": {
        "id": "93Ox1q1hTnR_",
        "colab_type": "code",
        "colab": {}
      },
      "source": [
        "@tf.function\n",
        "def train_step(input_image, target):\n",
        "  with tf.GradientTape() as gen_tape, tf.GradientTape() as disc_tape:\n",
        "    gen_output = generator(input_image, training=True)\n",
        "\n",
        "    disc_real_output = discriminator([input_image, target], training=True)\n",
        "    disc_generated_output = discriminator([input_image, gen_output], training=True)\n",
        "\n",
        "    gen_loss = generator_loss(disc_generated_output, gen_output, target)\n",
        "    disc_loss = discriminator_loss(disc_real_output, disc_generated_output)\n",
        "\n",
        "  generator_gradients = gen_tape.gradient(gen_loss,\n",
        "                                          generator.trainable_variables)\n",
        "  discriminator_gradients = disc_tape.gradient(disc_loss,\n",
        "                                               discriminator.trainable_variables)\n",
        "\n",
        "  generator_optimizer.apply_gradients(zip(generator_gradients,\n",
        "                                          generator.trainable_variables))\n",
        "  discriminator_optimizer.apply_gradients(zip(discriminator_gradients,\n",
        "                                              discriminator.trainable_variables))\n",
        "  \n",
        "  return gen_loss, disc_loss"
      ],
      "execution_count": 0,
      "outputs": []
    },
    {
      "cell_type": "code",
      "metadata": {
        "id": "v_lRoU5_SXOT",
        "colab_type": "code",
        "colab": {}
      },
      "source": [
        "from IPython.display import clear_output\n",
        "\n",
        "def train(dataset, epochs, test_ds):\n",
        "  print('Initializing training...')\n",
        "  for epoch in range(epochs):\n",
        "    img1 = 0\n",
        "    \n",
        "    for input_image, target in dataset.take(500):\n",
        "      img1 += 1\n",
        "      gen_loss, dis_loss = train_step(input_image, target)\n",
        "      \n",
        "      print(\"Epoch: {} Train: {}/{}\".format(epoch, img1, len(tr_urls)))\n",
        "      clear_output(wait = True)\n",
        "    \n",
        "    print('Epoch: {} Generator_loss: {} Discriminator_loss: {}'.format(epoch, gen_loss, dis_loss))\n",
        "    img1 = 0\n",
        "    for inp, tar in test_ds.take(5):\n",
        "      generate_images(generator, inp, tar, str(img1) + \"_\" + str(epoch), display_imgs=False)\n",
        "      img1 += 1\n",
        "    \n",
        "    # Saving checkpoints\n",
        "    if (epoch + 1) % 50 == 0:\n",
        "      checkpoint.save(file_prefix = CKPATH + '/checkpoint_' + str(epoch+1))"
      ],
      "execution_count": 0,
      "outputs": []
    },
    {
      "cell_type": "code",
      "metadata": {
        "id": "fZM5qMPBWVBY",
        "colab_type": "code",
        "outputId": "a9f8bbac-b713-4ed4-b2b3-2aba2778ea69",
        "colab": {
          "base_uri": "https://localhost:8080/"
        }
      },
      "source": [
        "train(train_dataset, 20, test_dataset)"
      ],
      "execution_count": 0,
      "outputs": [
        {
          "output_type": "stream",
          "text": [
            "Train 73/4606\n"
          ],
          "name": "stdout"
        }
      ]
    }
  ]
}